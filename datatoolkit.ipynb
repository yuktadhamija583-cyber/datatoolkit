{
  "nbformat": 4,
  "nbformat_minor": 0,
  "metadata": {
    "colab": {
      "provenance": []
    },
    "kernelspec": {
      "name": "python3",
      "display_name": "Python 3"
    },
    "language_info": {
      "name": "python"
    }
  },
  "cells": [
    {
      "cell_type": "markdown",
      "source": [
        "#Practical Python – Error Handling, Logging, and Data Manipulation| Assignment\n",
        "\n"
      ],
      "metadata": {
        "id": "9xMISvY8D8pk"
      }
    },
    {
      "cell_type": "markdown",
      "source": [
        "#Question 1 : What is the difference between multithreading and multiprocessing?\n",
        "\n",
        "| Feature                     | **Multithreading**                                                                                      | **Multiprocessing**                                                        |\n",
        "| --------------------------- | ------------------------------------------------------------------------------------------------------- | -------------------------------------------------------------------------- |\n",
        "| **Definition**              | Running multiple threads (smaller units of a single process) concurrently within the same process.      | Running multiple processes simultaneously, each with its own memory space. |\n",
        "| **Memory Usage**            | Threads share the same memory space.                                                                    | Each process has its own separate memory space.                            |\n",
        "| **Speed**                   | Faster for I/O-bound tasks (like file or network operations).                                           | Better for CPU-bound tasks (like heavy computation).                       |\n",
        "| **Communication**           | Easier since threads share data.                                                                        | More complex; requires inter-process communication (IPC).                  |\n",
        "| **Crashes**                 | If one thread crashes, it can affect the whole process.                                                 | If one process crashes, others remain unaffected.                          |\n",
        "| **Example in Python**       | `threading` module                                                                                      | `multiprocessing` module                                                   |\n",
        "| **Python Limitation (GIL)** | Affected by the **Global Interpreter Lock (GIL)** — only one thread executes Python bytecode at a time. | Not affected by GIL — each process runs its own Python interpreter.        |\n"
      ],
      "metadata": {
        "id": "yxI1jujLENof"
      }
    },
    {
      "cell_type": "markdown",
      "source": [
        "#Question 2: What are the challenges associated with memory management in Python?\n",
        "\n",
        "-> Challenges Associated with Memory Management in Python\n",
        "\n",
        "Python manages memory automatically using reference counting and a garbage collector, but there are still some challenges developers may face:\n",
        "\n",
        "| **Challenge**                            | **Explanation**                                                                                                                                                          |\n",
        "| ---------------------------------------- | ------------------------------------------------------------------------------------------------------------------------------------------------------------------------ |\n",
        "| **1. Reference Cycles**                  | When two or more objects reference each other, they create a cycle that the reference counter cannot resolve, leading to memory not being freed automatically.           |\n",
        "| **2. Memory Leaks**                      | Occur when unused objects are not released from memory—often due to lingering references (e.g., in global variables or caches).                                          |\n",
        "| **3. Fragmentation**                     | Continuous creation and destruction of small objects can fragment memory, reducing performance and increasing memory usage.                                              |\n",
        "| **4. High Memory Usage with Large Data** | Storing large datasets (like big lists or dictionaries) can consume significant memory, especially if copies of data are unintentionally created.                        |\n",
        "| **5. GIL (Global Interpreter Lock)**     | Though not directly a memory issue, it limits true parallel execution of threads, which can affect how memory and performance scale in multithreaded programs.           |\n",
        "| **6. Manual Control Limitations**        | Unlike low-level languages (like C), Python doesn’t give fine-grained control over memory allocation or deallocation, so developers rely on garbage collection behavior. |\n"
      ],
      "metadata": {
        "id": "8kLSRux0GDp1"
      }
    },
    {
      "cell_type": "markdown",
      "source": [
        "#Question3:Write a Python program that logs an error message to a log file when a division by zero exception occurs."
      ],
      "metadata": {
        "id": "Ab_o-HN_GfsW"
      }
    },
    {
      "cell_type": "code",
      "execution_count": 1,
      "metadata": {
        "colab": {
          "base_uri": "https://localhost:8080/"
        },
        "id": "CG83vZlIDofk",
        "outputId": "1deda7db-c6f0-43c8-c522-1ddeae086e59"
      },
      "outputs": [
        {
          "output_type": "stream",
          "name": "stdout",
          "text": [
            "Enter numerator: 5\n",
            "Enter denominator: 10\n",
            "Result: 0.5\n"
          ]
        }
      ],
      "source": [
        "import logging\n",
        "\n",
        "# Configure logging settings\n",
        "logging.basicConfig(\n",
        "    filename='error_log.log',         # Log file name\n",
        "    level=logging.ERROR,              # Log only error-level messages\n",
        "    format='%(asctime)s - %(levelname)s - %(message)s'  # Log format\n",
        ")\n",
        "\n",
        "try:\n",
        "    # Division operation\n",
        "    num1 = int(input(\"Enter numerator: \"))\n",
        "    num2 = int(input(\"Enter denominator: \"))\n",
        "    result = num1 / num2\n",
        "    print(\"Result:\", result)\n",
        "\n",
        "except ZeroDivisionError as e:\n",
        "    print(\"Error: Division by zero is not allowed.\")\n",
        "    logging.error(\"Division by zero error occurred: %s\", e)\n"
      ]
    },
    {
      "cell_type": "markdown",
      "source": [
        "#Question5:Write a Python program that reads from one file and writes its content to another file."
      ],
      "metadata": {
        "id": "c7F4EJr9G-KI"
      }
    },
    {
      "cell_type": "code",
      "source": [
        "# Read from one file and write to another\n",
        "\n",
        "# Input and output file names\n",
        "source_file = \"source.txt\"\n",
        "destination_file = \"destination.txt\"\n",
        "\n",
        "try:\n",
        "    # Open the source file in read mode\n",
        "    with open(source_file, 'r') as src:\n",
        "        content = src.read()  # Read all content from source file\n",
        "\n",
        "    # Open the destination file in write mode\n",
        "    with open(destination_file, 'w') as dest:\n",
        "        dest.write(content)  # Write the content to destination file\n",
        "\n",
        "    print(\"File copied successfully!\")\n",
        "\n",
        "except FileNotFoundError:\n",
        "    print(f\"Error: The file '{source_file}' was not found.\")\n",
        "except Exception as e:\n",
        "    print(\"An error occurred:\", e)\n"
      ],
      "metadata": {
        "colab": {
          "base_uri": "https://localhost:8080/"
        },
        "id": "tXrCb5JLG8ZJ",
        "outputId": "e84a500c-18a1-4da3-ca84-d0efb34604cc"
      },
      "execution_count": 2,
      "outputs": [
        {
          "output_type": "stream",
          "name": "stdout",
          "text": [
            "Error: The file 'source.txt' was not found.\n"
          ]
        }
      ]
    },
    {
      "cell_type": "markdown",
      "source": [
        "#Question 5: Write a program that handles both IndexError and KeyError using a try-except block."
      ],
      "metadata": {
        "id": "ueEMrmifHgnk"
      }
    },
    {
      "cell_type": "code",
      "source": [
        "# Program to handle IndexError and KeyError\n",
        "\n",
        "try:\n",
        "    # Example list and dictionary\n",
        "    my_list = [10, 20, 30]\n",
        "    my_dict = {\"a\": 1, \"b\": 2, \"c\": 3}\n",
        "\n",
        "    # Intentionally cause errors\n",
        "    print(my_list[5])       # This will raise IndexError\n",
        "    print(my_dict[\"d\"])     # This will raise KeyError\n",
        "\n",
        "except IndexError:\n",
        "    print(\"Error: List index out of range!\")\n",
        "except KeyError:\n",
        "    print(\"Error: Key not found in dictionary!\")\n",
        "except Exception as e:\n",
        "    print(\"An unexpected error occurred:\", e)\n"
      ],
      "metadata": {
        "colab": {
          "base_uri": "https://localhost:8080/"
        },
        "id": "ILkr5n0KHVyi",
        "outputId": "49a4ea7f-ce3a-4290-a9f2-0692ffb21db2"
      },
      "execution_count": 3,
      "outputs": [
        {
          "output_type": "stream",
          "name": "stdout",
          "text": [
            "Error: List index out of range!\n"
          ]
        }
      ]
    },
    {
      "cell_type": "markdown",
      "source": [
        "#Question 6: What are the differences between NumPy arrays and Python lists?\n",
        "\n",
        "| **Feature**                 | **NumPy Array**                                                                                            | **Python List**                                                      |\n",
        "| --------------------------- | ---------------------------------------------------------------------------------------------------------- | -------------------------------------------------------------------- |\n",
        "| **Definition**              | A powerful, fixed-type, homogeneous data structure from the NumPy library used for numerical computations. | A built-in, general-purpose, heterogeneous data structure in Python. |\n",
        "| **Data Type**               | Stores elements of the **same data type** (homogeneous).                                                   | Can store elements of **different data types** (heterogeneous).      |\n",
        "| **Performance**             | **Much faster** — uses optimized C-based operations.                                                       | **Slower** — uses dynamic typing and general Python objects.         |\n",
        "| **Memory Usage**            | Consumes **less memory** due to fixed data types.                                                          | Consumes **more memory** since each element stores type info.        |\n",
        "| **Mathematical Operations** | Supports **vectorized operations** (element-wise addition, multiplication, etc.) directly.                 | Requires **loops** or list comprehensions for such operations.       |\n",
        "| **Functionality**           | Comes with many **built-in functions** for linear algebra, statistics, and more.                           | Fewer numerical functions — you must code operations manually.       |\n",
        "| **Dimensionality**          | Supports **multi-dimensional arrays** (e.g., matrices).                                                    | Only supports **1D (nested lists for higher dimensions)**.           |\n",
        "| **Example**                 | `python\\nimport numpy as np\\narr = np.array([1, 2, 3])\\narr * 2  # → [2 4 6]\\n`                            | `python\\nlst = [1, 2, 3]\\n[x * 2 for x in lst]  # → [2, 4, 6]\\n`     |\n"
      ],
      "metadata": {
        "id": "pxEyS98VHzNo"
      }
    },
    {
      "cell_type": "markdown",
      "source": [
        "#Question 7:Explain the difference between apply() and map() in Pandas.\n",
        "\n",
        "| **Feature**             | **`map()`**                                                                           | **`apply()`**                                                              |\n",
        "| ----------------------- | ------------------------------------------------------------------------------------- | -------------------------------------------------------------------------- |\n",
        "| **Used With**           | Works **only on Series** (a single column).                                           | Works on **DataFrame** (multiple columns) **or Series**.                   |\n",
        "| **Purpose**             | Applies a **function, dictionary, or mapping** to transform each element of a Series. | Applies a **function** along an axis (rows or columns) of a DataFrame.     |\n",
        "| **Input Function Type** | Function, dict, or Series.                                                            | Function (custom or built-in).                                             |\n",
        "| **Output**              | Returns a new Series.                                                                 | Can return a Series, DataFrame, or scalar value depending on the function. |\n",
        "| **Use Case**            | Element-wise operations on a single column.                                           | Row-wise or column-wise operations on an entire DataFrame.                 |\n",
        "| **Syntax Example**      | `df['col'].map(function)`                                                             | `df.apply(function, axis=0 or 1)`                                          |\n"
      ],
      "metadata": {
        "id": "tqGQWzznIBSJ"
      }
    },
    {
      "cell_type": "code",
      "source": [
        "#using map() (works on single column)\n",
        "\n",
        "import pandas as pd\n",
        "\n",
        "df = pd.DataFrame({'A': [1, 2, 3, 4]})\n",
        "df['A_mapped'] = df['A'].map(lambda x: x * 2)\n",
        "\n",
        "print(df)\n",
        "\n",
        "#using apply() (works on row and columns)\n",
        "\n",
        "import pandas as pd\n",
        "\n",
        "df = pd.DataFrame({\n",
        "    'A': [1, 2, 3],\n",
        "    'B': [4, 5, 6]\n",
        "})\n",
        "\n",
        "# Apply a function to each row\n",
        "df['Sum'] = df.apply(lambda row: row['A'] + row['B'], axis=1)\n",
        "\n",
        "print(df)\n",
        "\n"
      ],
      "metadata": {
        "colab": {
          "base_uri": "https://localhost:8080/"
        },
        "id": "gQKbm3SbHufM",
        "outputId": "34ab9801-4509-4edd-899b-055e98101328"
      },
      "execution_count": 4,
      "outputs": [
        {
          "output_type": "stream",
          "name": "stdout",
          "text": [
            "   A  A_mapped\n",
            "0  1         2\n",
            "1  2         4\n",
            "2  3         6\n",
            "3  4         8\n",
            "   A  B  Sum\n",
            "0  1  4    5\n",
            "1  2  5    7\n",
            "2  3  6    9\n"
          ]
        }
      ]
    },
    {
      "cell_type": "markdown",
      "source": [
        "#Question 8: Create a histogram using Seaborn to visualize a distribution.\n",
        "\n"
      ],
      "metadata": {
        "id": "SN5Bd20NI1g1"
      }
    },
    {
      "cell_type": "code",
      "source": [
        "# Import necessary libraries\n",
        "import seaborn as sns\n",
        "import matplotlib.pyplot as plt\n",
        "\n",
        "# Sample data\n",
        "data = [12, 15, 14, 10, 18, 20, 22, 19, 17, 16, 21, 25, 24, 23, 19, 18, 20, 22, 21, 23]\n",
        "\n",
        "# Create a histogram\n",
        "sns.histplot(data, bins=8, kde=True, color='skyblue')\n",
        "\n",
        "# Add titles and labels\n",
        "plt.title(\"Distribution of Sample Data\")\n",
        "plt.xlabel(\"Values\")\n",
        "plt.ylabel(\"Frequency\")\n",
        "\n",
        "# Show the plot\n",
        "plt.show()\n"
      ],
      "metadata": {
        "colab": {
          "base_uri": "https://localhost:8080/",
          "height": 472
        },
        "id": "zF6ChjEIIy8N",
        "outputId": "593cb4ea-e588-4053-faed-879e3c349c98"
      },
      "execution_count": 5,
      "outputs": [
        {
          "output_type": "display_data",
          "data": {
            "text/plain": [
              "<Figure size 640x480 with 1 Axes>"
            ],
            "image/png": "[encoded data removed]"
          },
          "metadata": {}
        }
      ]
    },
    {
      "cell_type": "markdown",
      "source": [
        "#Question 9: Use Pandas to load a CSV file and display its first 5 rows.\n",
        "\n"
      ],
      "metadata": {
        "id": "DQL9WuZ9JE0Q"
      }
    },
    {
      "cell_type": "code",
      "metadata": {
        "colab": {
          "base_uri": "https://localhost:8080/"
        },
        "id": "e3b062dd",
        "outputId": "666ab261-f78d-46ce-b870-4f37c1def2fd"
      },
      "source": [
        "# Create the data.csv file\n",
        "csv_content = \"\"\"Name,Age,City\n",
        "yukta,24,Delhi\n",
        "raman,27,Mumbai\n",
        "shubhu,22,Chennai\n",
        "aman,25,Pune\n",
        "tushar,23,Kolkata\n",
        "\"\"\"\n",
        "\n",
        "with open(\"data.csv\", \"w\") as f:\n",
        "    f.write(csv_content)\n",
        "\n",
        "print(\"data.csv created successfully!\")"
      ],
      "execution_count": 19,
      "outputs": [
        {
          "output_type": "stream",
          "name": "stdout",
          "text": [
            "data.csv created successfully!\n"
          ]
        }
      ]
    },
    {
      "cell_type": "code",
      "source": [
        "\n",
        "import pandas as pd\n",
        "\n",
        "# Load the CSV file\n",
        "df = pd.read_csv(\"data.csv\")   # Replace 'data.csv' with your actual CSV file name\n",
        "\n",
        "# Display the first 5 rows\n",
        "print(\"First 5 rows of the CSV file:\")\n",
        "print(df.head())"
      ],
      "metadata": {
        "colab": {
          "base_uri": "https://localhost:8080/"
        },
        "id": "62mGThcdNZ0r",
        "outputId": "786e3d0f-9249-4046-ddc4-7be40b4aa471"
      },
      "execution_count": 20,
      "outputs": [
        {
          "output_type": "stream",
          "name": "stdout",
          "text": [
            "First 5 rows of the CSV file:\n",
            "     Name  Age     City\n",
            "0   yukta   24    Delhi\n",
            "1   raman   27   Mumbai\n",
            "2  shubhu   22  Chennai\n",
            "3    aman   25     Pune\n",
            "4  tushar   23  Kolkata\n"
          ]
        }
      ]
    },
    {
      "cell_type": "markdown",
      "source": [
        "#Question 10: Calculate the correlation matrix using Seaborn and visualize it with a heatmap."
      ],
      "metadata": {
        "id": "22EtuYbON68D"
      }
    },
    {
      "cell_type": "code",
      "source": [
        "import pandas as pd\n",
        "import seaborn as sns\n",
        "import matplotlib.pyplot as plt\n",
        "\n",
        "# Sample data\n",
        "data = {\n",
        "    'A': [1, 2, 3, 4, 5],\n",
        "    'B': [5, 4, 3, 2, 1],\n",
        "    'C': [2, 3, 4, 5, 6],\n",
        "    'D': [5, 3, 1, 2, 4]\n",
        "}\n",
        "\n",
        "# Create a DataFrame\n",
        "df = pd.DataFrame(data)\n",
        "\n",
        "# Calculate the correlation matrix\n",
        "corr_matrix = df.corr()\n",
        "print(\"Correlation Matrix:\")\n",
        "print(corr_matrix)\n",
        "\n",
        "# Visualize the correlation matrix using a heatmap\n",
        "sns.heatmap(corr_matrix, annot=True, cmap='coolwarm', linewidths=0.5)\n",
        "plt.title(\"Correlation Heatmap\")\n",
        "plt.show()\n"
      ],
      "metadata": {
        "colab": {
          "base_uri": "https://localhost:8080/",
          "height": 556
        },
        "id": "x7JZIovrNoeq",
        "outputId": "50f14c5b-bfda-4a60-9b48-750452e913fa"
      },
      "execution_count": 21,
      "outputs": [
        {
          "output_type": "stream",
          "name": "stdout",
          "text": [
            "Correlation Matrix:\n",
            "     A    B    C    D\n",
            "A  1.0 -1.0  1.0 -0.3\n",
            "B -1.0  1.0 -1.0  0.3\n",
            "C  1.0 -1.0  1.0 -0.3\n",
            "D -0.3  0.3 -0.3  1.0\n"
          ]
        },
        {
          "output_type": "display_data",
          "data": {
            "text/plain": [
              "<Figure size 640x480 with 2 Axes>"
            ],
            "image/png": "[encoded data removed]"
          },
          "metadata": {}
        }
      ]
    },
    {
      "cell_type": "code",
      "source": [],
      "metadata": {
        "id": "jci2XO6hOGIQ"
      },
      "execution_count": null,
      "outputs": []
    }
  ]
}